{
  "cells": [
    {
      "cell_type": "code",
      "execution_count": null,
      "metadata": {
        "colab": {
          "base_uri": "https://localhost:8080/",
          "height": 121,
          "referenced_widgets": [
            "d8f7aca5f5b649f0acdaa91b57843b46",
            "53775d317b29487e9734496f46f0675d",
            "a9c6be9bed55475497c834f8fe65bb8c",
            "b5f70fb8fb964012b8bf69d7b8bcd217",
            "e871edf65c7b4d398e9ee405d5dd2349",
            "f03e0b9e78e34823a77f7daa501373c1",
            "8002f33c6fe246319f14fac191e26966",
            "c1b9977f51f147f29572661f780755fd",
            "b89bde94fedf4f69bb17fd56126455f7",
            "eec666b06cc74a5d8c20f1ec238c057b",
            "ee89b1a2256c43aa9f100047d7318767"
          ]
        },
        "id": "SQ_hbFB9bR_r",
        "outputId": "8039db55-20e1-4b8d-9a42-186a6249ce27"
      },
      "outputs": [
        {
          "name": "stdout",
          "output_type": "stream",
          "text": [
            "Using GPU: NVIDIA A100-SXM4-40GB\n"
          ]
        },
        {
          "data": {
            "application/vnd.jupyter.widget-view+json": {
              "model_id": "d8f7aca5f5b649f0acdaa91b57843b46",
              "version_major": 2,
              "version_minor": 0
            },
            "text/plain": [
              "Loading checkpoint shards:   0%|          | 0/2 [00:00<?, ?it/s]"
            ]
          },
          "metadata": {},
          "output_type": "display_data"
        },
        {
          "name": "stdout",
          "output_type": "stream",
          "text": [
            "<s> Hello, world! How can I help you today?\n",
            "I’m a UX designer with a background in web development. I’ve worked in many industries, from healthcare to education, and I’ve helped businesses big\n"
          ]
        }
      ],
      "source": [
        "# Install transformers library if it's not already installed\n",
        "# !pip install transformers\n",
        "\n",
        "# Import necessary libraries\n",
        "from transformers import AutoTokenizer, AutoModelForCausalLM\n",
        "import torch\n",
        "\n",
        "# Make sure that a GPU is available\n",
        "if torch.cuda.is_available():\n",
        "    device = torch.device(\"cuda\")\n",
        "    print(\"Using GPU:\", torch.cuda.get_device_name(0))\n",
        "else:\n",
        "    device = torch.device(\"cpu\")\n",
        "    print(\"Using CPU\")\n",
        "\n",
        "my_token = \"YOUR_HF_TOKEN\"\n",
        "\n",
        "tokenizer = AutoTokenizer.from_pretrained(\"meta-llama/Llama-2-7b-hf\", token= my_token)\n",
        "# meta-llama/Llama-2-7b-hf  Llama-2-7b-chat-hf\n",
        "model = AutoModelForCausalLM.from_pretrained(\"meta-llama/Llama-2-7b-hf\", token= my_token)\n",
        "\n",
        "# Place the model on the GPU (if available)\n",
        "model.to(device)\n",
        "\n",
        "# Now you can use the model, for example to generate text\n",
        "text = \"Hello, world! How can I help you today?\"\n",
        "inputs = tokenizer.encode(text, return_tensors=\"pt\").to(device)\n",
        "outputs = model.generate(inputs, max_length=50)\n",
        "\n",
        "# Decode and print the generated text\n",
        "print(tokenizer.decode(outputs[0]))\n"
      ]
    },
    {
      "cell_type": "code",
      "execution_count": null,
      "metadata": {
        "colab": {
          "base_uri": "https://localhost:8080/"
        },
        "id": "u2awSDaWhzjp",
        "outputId": "9fea6981-10e9-4b59-86ab-acbe633d1ec8"
      },
      "outputs": [
        {
          "name": "stdout",
          "output_type": "stream",
          "text": [
            "Mounted at /content/drive\n"
          ]
        }
      ],
      "source": [
        "from google.colab import drive\n",
        "drive.mount('/content/drive')"
      ]
    },
    {
      "cell_type": "code",
      "execution_count": null,
      "metadata": {
        "id": "nslgh8yZiLfL"
      },
      "outputs": [],
      "source": [
        "# Path to your file\n",
        "file_path = '/content/drive/My Drive/FSU/rlhf_biases/input_human_abstracts_sample_2020.txt'\n"
      ]
    },
    {
      "cell_type": "code",
      "execution_count": null,
      "metadata": {
        "colab": {
          "base_uri": "https://localhost:8080/"
        },
        "id": "aQeXrTq1inRw",
        "outputId": "a91add64-48b6-42d9-b280-c511a568a274"
      },
      "outputs": [
        {
          "name": "stdout",
          "output_type": "stream",
          "text": [
            "Normalised entropy of the text: 1.61596819886545\n"
          ]
        }
      ],
      "source": [
        "# Open the file and read the lines\n",
        "input_file = open(file_path, 'r')\n",
        "\n",
        "summed_tokes = 0\n",
        "summed_entropy = 0.0\n",
        "\n",
        "c = 0\n",
        "for line in input_file:\n",
        "  c += 1\n",
        "  if c % 1000 == 0:\n",
        "      print(f\"Processed {c} lines\")\n",
        "  line = line.strip()\n",
        "  # Encode text\n",
        "  inputs = tokenizer(line, return_tensors=\"pt\").to(device)\n",
        "\n",
        "  num_tokens = inputs.input_ids.size(1)\n",
        "  summed_tokes += num_tokens\n",
        "\n",
        "  # Get model output (logits)\n",
        "  with torch.no_grad():\n",
        "      outputs = model(**inputs).logits\n",
        "\n",
        "  # Softmax to convert logits to probabilities\n",
        "  probabilities = torch.softmax(outputs, dim=-1)\n",
        "\n",
        "  # Calculate entropy\n",
        "  entropy = -torch.sum(probabilities * torch.log(probabilities), dim=-1)\n",
        "\n",
        "  # Sum entropy across tokens to get total entropy for the text\n",
        "  total_entropy = torch.sum(entropy).item()\n",
        "  summed_entropy += total_entropy\n",
        "\n",
        "normalised_entropy = summed_entropy / summed_tokes\n",
        "print(f\"Normalised entropy of the text: {normalised_entropy}\")"
      ]
    },
    {
      "cell_type": "code",
      "execution_count": null,
      "metadata": {
        "id": "E1XBOltLjxC5"
      },
      "outputs": [],
      "source": [
        "# Path to your file\n",
        "file_path = '/content/drive/My Drive/FSU/rlhf_biases/output_ai_abstracts-from-summary_gpt-3.5-turbo-instruct.txt'\n"
      ]
    },
    {
      "cell_type": "code",
      "execution_count": null,
      "metadata": {
        "colab": {
          "base_uri": "https://localhost:8080/"
        },
        "id": "yL124OdEkuSV",
        "outputId": "777dd364-0476-49ac-9642-fe39e83efd6b"
      },
      "outputs": [
        {
          "name": "stdout",
          "output_type": "stream",
          "text": [
            "Normalised entropy of the text: 1.633374827518558\n"
          ]
        }
      ],
      "source": [
        "# Open the file and read the lines\n",
        "input_file = open(file_path, 'r')\n",
        "\n",
        "summed_tokes = 0\n",
        "summed_entropy = 0.0\n",
        "\n",
        "c = 0\n",
        "for line in input_file:\n",
        "  c += 1\n",
        "  if c % 1000 == 0:\n",
        "      print(f\"Processed {c} lines\")\n",
        "  line = line.strip()\n",
        "  # Encode text\n",
        "  inputs = tokenizer(line, return_tensors=\"pt\").to(device)\n",
        "\n",
        "  num_tokens = inputs.input_ids.size(1)\n",
        "  summed_tokes += num_tokens\n",
        "\n",
        "  # Get model output (logits)\n",
        "  with torch.no_grad():\n",
        "      outputs = model(**inputs).logits\n",
        "\n",
        "  # Softmax to convert logits to probabilities\n",
        "  probabilities = torch.softmax(outputs, dim=-1)\n",
        "\n",
        "  # Calculate entropy\n",
        "  entropy = -torch.sum(probabilities * torch.log(probabilities), dim=-1)\n",
        "\n",
        "  # Sum entropy across tokens to get total entropy for the text\n",
        "  total_entropy = torch.sum(entropy).item()\n",
        "  summed_entropy += total_entropy\n",
        "\n",
        "normalised_entropy = summed_entropy / summed_tokes\n",
        "print(f\"Normalised entropy of the text: {normalised_entropy}\")"
      ]
    },
    {
      "cell_type": "markdown",
      "metadata": {
        "id": "fvSvxfv9lfCV"
      },
      "source": [
        "---\n",
        "---"
      ]
    },
    {
      "cell_type": "code",
      "execution_count": null,
      "metadata": {
        "colab": {
          "base_uri": "https://localhost:8080/",
          "height": 138,
          "referenced_widgets": [
            "d9233d685d1848749aa3cdb3820b7a05",
            "b99d2bca44d0413abf1c45c466f2d3cc",
            "47bf0c2d5d4d4635924cb45bbd87349d",
            "2d161f75918a4fb88d99227f71328d72",
            "e492213cf8e24812a214a6dae388c5cc",
            "73de0520466a477687f45a8ee40c00d7",
            "25b4296d6317429b8c496d5b89d62de3",
            "e19948f70480481780a2080655d3b1a8",
            "6a923b1fac0d484fa867ae644511d1fe",
            "46c7ab6310844ca486eb7a6a519b6596",
            "be2efa1fe8c3489ca97eb87f2def85cc"
          ]
        },
        "id": "PZsA98U3lcPp",
        "outputId": "17de3b68-d51a-4968-b67f-1fca4517914c"
      },
      "outputs": [
        {
          "name": "stdout",
          "output_type": "stream",
          "text": [
            "Using GPU: NVIDIA A100-SXM4-40GB\n"
          ]
        },
        {
          "data": {
            "application/vnd.jupyter.widget-view+json": {
              "model_id": "d9233d685d1848749aa3cdb3820b7a05",
              "version_major": 2,
              "version_minor": 0
            },
            "text/plain": [
              "Loading checkpoint shards:   0%|          | 0/2 [00:00<?, ?it/s]"
            ]
          },
          "metadata": {},
          "output_type": "display_data"
        },
        {
          "name": "stdout",
          "output_type": "stream",
          "text": [
            "<s> Hello, world! How can I help you today?\n",
            "\n",
            "🤔 Thinking... 💡 Ah, I see! You want to know how to improve your coding skills. Well, here are some tips that can\n"
          ]
        }
      ],
      "source": [
        "# Install transformers library if it's not already installed\n",
        "# !pip install transformers\n",
        "\n",
        "# Import necessary libraries\n",
        "from transformers import AutoTokenizer, AutoModelForCausalLM\n",
        "import torch\n",
        "\n",
        "# Make sure that a GPU is available\n",
        "if torch.cuda.is_available():\n",
        "    device = torch.device(\"cuda\")\n",
        "    print(\"Using GPU:\", torch.cuda.get_device_name(0))\n",
        "else:\n",
        "    device = torch.device(\"cpu\")\n",
        "    print(\"Using CPU\")\n",
        "\n",
        "my_token = \"YOUR_HF_TOKEN\"\n",
        "\n",
        "tokenizer = AutoTokenizer.from_pretrained(\"meta-llama/Llama-2-7b-chat-hf\", token= my_token)\n",
        "# meta-llama/Llama-2-7b-hf  Llama-2-7b-chat-hf\n",
        "model = AutoModelForCausalLM.from_pretrained(\"meta-llama/Llama-2-7b-chat-hf\", token= my_token)\n",
        "\n",
        "# Place the model on the GPU (if available)\n",
        "model.to(device)\n",
        "\n",
        "# Now you can use the model, for example to generate text\n",
        "text = \"Hello, world! How can I help you today?\"\n",
        "inputs = tokenizer.encode(text, return_tensors=\"pt\").to(device)\n",
        "outputs = model.generate(inputs, max_length=50)\n",
        "\n",
        "# Decode and print the generated text\n",
        "print(tokenizer.decode(outputs[0]))\n"
      ]
    },
    {
      "cell_type": "code",
      "execution_count": null,
      "metadata": {
        "id": "e8Osg2Cllus9"
      },
      "outputs": [],
      "source": [
        "from google.colab import drive\n",
        "drive.mount('/content/drive')"
      ]
    },
    {
      "cell_type": "code",
      "execution_count": null,
      "metadata": {
        "id": "JokjGF6Rlqhb"
      },
      "outputs": [],
      "source": [
        "# Path to your file\n",
        "file_path = '/content/drive/My Drive/FSU/rlhf_biases/input_human_abstracts_sample_2020.txt'\n"
      ]
    },
    {
      "cell_type": "code",
      "execution_count": null,
      "metadata": {
        "colab": {
          "base_uri": "https://localhost:8080/"
        },
        "id": "6yoPS0l1l0Nr",
        "outputId": "5f6589b7-c508-4982-f602-cf7f7687156d"
      },
      "outputs": [
        {
          "name": "stdout",
          "output_type": "stream",
          "text": [
            "Processed 1000 lines\n",
            "Processed 2000 lines\n",
            "Processed 3000 lines\n",
            "Processed 4000 lines\n",
            "Processed 5000 lines\n",
            "Processed 6000 lines\n",
            "Processed 7000 lines\n",
            "Processed 8000 lines\n",
            "Processed 9000 lines\n",
            "Processed 10000 lines\n",
            "Normalised entropy of the text: 1.051388046994973\n"
          ]
        }
      ],
      "source": [
        "# Open the file and read the lines\n",
        "input_file = open(file_path, 'r')\n",
        "\n",
        "summed_tokes = 0\n",
        "summed_entropy = 0.0\n",
        "\n",
        "c = 0\n",
        "for line in input_file:\n",
        "  c += 1\n",
        "  if c % 1000 == 0:\n",
        "      print(f\"Processed {c} lines\")\n",
        "  line = line.strip()\n",
        "  # Encode text\n",
        "  inputs = tokenizer(line, return_tensors=\"pt\").to(device)\n",
        "\n",
        "  num_tokens = inputs.input_ids.size(1)\n",
        "  summed_tokes += num_tokens\n",
        "\n",
        "  # Get model output (logits)\n",
        "  with torch.no_grad():\n",
        "      outputs = model(**inputs).logits\n",
        "\n",
        "  # Softmax to convert logits to probabilities\n",
        "  probabilities = torch.softmax(outputs, dim=-1)\n",
        "\n",
        "  # Calculate entropy\n",
        "  entropy = -torch.sum(probabilities * torch.log(probabilities), dim=-1)\n",
        "\n",
        "  # Sum entropy across tokens to get total entropy for the text\n",
        "  total_entropy = torch.sum(entropy).item()\n",
        "  summed_entropy += total_entropy\n",
        "\n",
        "normalised_entropy = summed_entropy / summed_tokes\n",
        "print(f\"Normalised entropy of the text: {normalised_entropy}\")"
      ]
    },
    {
      "cell_type": "code",
      "execution_count": null,
      "metadata": {
        "id": "zBnHYpm5l4G0"
      },
      "outputs": [],
      "source": [
        "# Path to your file\n",
        "file_path = '/content/drive/My Drive/FSU/rlhf_biases/output_ai_abstracts-from-summary_gpt-3.5-turbo-instruct.txt'\n"
      ]
    },
    {
      "cell_type": "code",
      "execution_count": null,
      "metadata": {
        "colab": {
          "base_uri": "https://localhost:8080/"
        },
        "id": "LjfpHJCql44y",
        "outputId": "8b5c1ce4-2980-4530-b563-6152a16e08f9"
      },
      "outputs": [
        {
          "name": "stdout",
          "output_type": "stream",
          "text": [
            "Processed 1000 lines\n",
            "Processed 2000 lines\n",
            "Processed 3000 lines\n",
            "Processed 4000 lines\n",
            "Processed 5000 lines\n",
            "Processed 6000 lines\n",
            "Processed 7000 lines\n",
            "Processed 8000 lines\n",
            "Processed 9000 lines\n",
            "Normalised entropy of the text: 0.8859932033055675\n"
          ]
        }
      ],
      "source": [
        "# Open the file and read the lines\n",
        "input_file = open(file_path, 'r')\n",
        "\n",
        "summed_tokes = 0\n",
        "summed_entropy = 0.0\n",
        "\n",
        "c = 0\n",
        "for line in input_file:\n",
        "  c += 1\n",
        "  if c % 1000 == 0:\n",
        "      print(f\"Processed {c} lines\")\n",
        "  line = line.strip()\n",
        "  # Encode text\n",
        "  inputs = tokenizer(line, return_tensors=\"pt\").to(device)\n",
        "\n",
        "  num_tokens = inputs.input_ids.size(1)\n",
        "  summed_tokes += num_tokens\n",
        "\n",
        "  # Get model output (logits)\n",
        "  with torch.no_grad():\n",
        "      outputs = model(**inputs).logits\n",
        "\n",
        "  # Softmax to convert logits to probabilities\n",
        "  probabilities = torch.softmax(outputs, dim=-1)\n",
        "\n",
        "  # Calculate entropy\n",
        "  entropy = -torch.sum(probabilities * torch.log(probabilities), dim=-1)\n",
        "\n",
        "  # Sum entropy across tokens to get total entropy for the text\n",
        "  total_entropy = torch.sum(entropy).item()\n",
        "  summed_entropy += total_entropy\n",
        "\n",
        "normalised_entropy = summed_entropy / summed_tokes\n",
        "print(f\"Normalised entropy of the text: {normalised_entropy}\")"
      ]
    }
  ],
  "metadata": {
    "accelerator": "GPU",
    "colab": {
      "gpuType": "A100",
      "provenance": []
    },
    "kernelspec": {
      "display_name": "Python 3",
      "name": "python3"
    },
    "language_info": {
      "name": "python"
    },
    "widgets": {
      "application/vnd.jupyter.widget-state+json": {
        "25b4296d6317429b8c496d5b89d62de3": {
          "model_module": "@jupyter-widgets/controls",
          "model_module_version": "1.5.0",
          "model_name": "DescriptionStyleModel",
          "state": {
            "_model_module": "@jupyter-widgets/controls",
            "_model_module_version": "1.5.0",
            "_model_name": "DescriptionStyleModel",
            "_view_count": null,
            "_view_module": "@jupyter-widgets/base",
            "_view_module_version": "1.2.0",
            "_view_name": "StyleView",
            "description_width": ""
          }
        },
        "2d161f75918a4fb88d99227f71328d72": {
          "model_module": "@jupyter-widgets/controls",
          "model_module_version": "1.5.0",
          "model_name": "HTMLModel",
          "state": {
            "_dom_classes": [],
            "_model_module": "@jupyter-widgets/controls",
            "_model_module_version": "1.5.0",
            "_model_name": "HTMLModel",
            "_view_count": null,
            "_view_module": "@jupyter-widgets/controls",
            "_view_module_version": "1.5.0",
            "_view_name": "HTMLView",
            "description": "",
            "description_tooltip": null,
            "layout": "IPY_MODEL_46c7ab6310844ca486eb7a6a519b6596",
            "placeholder": "​",
            "style": "IPY_MODEL_be2efa1fe8c3489ca97eb87f2def85cc",
            "value": " 2/2 [00:04&lt;00:00,  2.29s/it]"
          }
        },
        "46c7ab6310844ca486eb7a6a519b6596": {
          "model_module": "@jupyter-widgets/base",
          "model_module_version": "1.2.0",
          "model_name": "LayoutModel",
          "state": {
            "_model_module": "@jupyter-widgets/base",
            "_model_module_version": "1.2.0",
            "_model_name": "LayoutModel",
            "_view_count": null,
            "_view_module": "@jupyter-widgets/base",
            "_view_module_version": "1.2.0",
            "_view_name": "LayoutView",
            "align_content": null,
            "align_items": null,
            "align_self": null,
            "border": null,
            "bottom": null,
            "display": null,
            "flex": null,
            "flex_flow": null,
            "grid_area": null,
            "grid_auto_columns": null,
            "grid_auto_flow": null,
            "grid_auto_rows": null,
            "grid_column": null,
            "grid_gap": null,
            "grid_row": null,
            "grid_template_areas": null,
            "grid_template_columns": null,
            "grid_template_rows": null,
            "height": null,
            "justify_content": null,
            "justify_items": null,
            "left": null,
            "margin": null,
            "max_height": null,
            "max_width": null,
            "min_height": null,
            "min_width": null,
            "object_fit": null,
            "object_position": null,
            "order": null,
            "overflow": null,
            "overflow_x": null,
            "overflow_y": null,
            "padding": null,
            "right": null,
            "top": null,
            "visibility": null,
            "width": null
          }
        },
        "47bf0c2d5d4d4635924cb45bbd87349d": {
          "model_module": "@jupyter-widgets/controls",
          "model_module_version": "1.5.0",
          "model_name": "FloatProgressModel",
          "state": {
            "_dom_classes": [],
            "_model_module": "@jupyter-widgets/controls",
            "_model_module_version": "1.5.0",
            "_model_name": "FloatProgressModel",
            "_view_count": null,
            "_view_module": "@jupyter-widgets/controls",
            "_view_module_version": "1.5.0",
            "_view_name": "ProgressView",
            "bar_style": "success",
            "description": "",
            "description_tooltip": null,
            "layout": "IPY_MODEL_e19948f70480481780a2080655d3b1a8",
            "max": 2,
            "min": 0,
            "orientation": "horizontal",
            "style": "IPY_MODEL_6a923b1fac0d484fa867ae644511d1fe",
            "value": 2
          }
        },
        "53775d317b29487e9734496f46f0675d": {
          "model_module": "@jupyter-widgets/controls",
          "model_module_version": "1.5.0",
          "model_name": "HTMLModel",
          "state": {
            "_dom_classes": [],
            "_model_module": "@jupyter-widgets/controls",
            "_model_module_version": "1.5.0",
            "_model_name": "HTMLModel",
            "_view_count": null,
            "_view_module": "@jupyter-widgets/controls",
            "_view_module_version": "1.5.0",
            "_view_name": "HTMLView",
            "description": "",
            "description_tooltip": null,
            "layout": "IPY_MODEL_f03e0b9e78e34823a77f7daa501373c1",
            "placeholder": "​",
            "style": "IPY_MODEL_8002f33c6fe246319f14fac191e26966",
            "value": "Loading checkpoint shards: 100%"
          }
        },
        "6a923b1fac0d484fa867ae644511d1fe": {
          "model_module": "@jupyter-widgets/controls",
          "model_module_version": "1.5.0",
          "model_name": "ProgressStyleModel",
          "state": {
            "_model_module": "@jupyter-widgets/controls",
            "_model_module_version": "1.5.0",
            "_model_name": "ProgressStyleModel",
            "_view_count": null,
            "_view_module": "@jupyter-widgets/base",
            "_view_module_version": "1.2.0",
            "_view_name": "StyleView",
            "bar_color": null,
            "description_width": ""
          }
        },
        "73de0520466a477687f45a8ee40c00d7": {
          "model_module": "@jupyter-widgets/base",
          "model_module_version": "1.2.0",
          "model_name": "LayoutModel",
          "state": {
            "_model_module": "@jupyter-widgets/base",
            "_model_module_version": "1.2.0",
            "_model_name": "LayoutModel",
            "_view_count": null,
            "_view_module": "@jupyter-widgets/base",
            "_view_module_version": "1.2.0",
            "_view_name": "LayoutView",
            "align_content": null,
            "align_items": null,
            "align_self": null,
            "border": null,
            "bottom": null,
            "display": null,
            "flex": null,
            "flex_flow": null,
            "grid_area": null,
            "grid_auto_columns": null,
            "grid_auto_flow": null,
            "grid_auto_rows": null,
            "grid_column": null,
            "grid_gap": null,
            "grid_row": null,
            "grid_template_areas": null,
            "grid_template_columns": null,
            "grid_template_rows": null,
            "height": null,
            "justify_content": null,
            "justify_items": null,
            "left": null,
            "margin": null,
            "max_height": null,
            "max_width": null,
            "min_height": null,
            "min_width": null,
            "object_fit": null,
            "object_position": null,
            "order": null,
            "overflow": null,
            "overflow_x": null,
            "overflow_y": null,
            "padding": null,
            "right": null,
            "top": null,
            "visibility": null,
            "width": null
          }
        },
        "8002f33c6fe246319f14fac191e26966": {
          "model_module": "@jupyter-widgets/controls",
          "model_module_version": "1.5.0",
          "model_name": "DescriptionStyleModel",
          "state": {
            "_model_module": "@jupyter-widgets/controls",
            "_model_module_version": "1.5.0",
            "_model_name": "DescriptionStyleModel",
            "_view_count": null,
            "_view_module": "@jupyter-widgets/base",
            "_view_module_version": "1.2.0",
            "_view_name": "StyleView",
            "description_width": ""
          }
        },
        "a9c6be9bed55475497c834f8fe65bb8c": {
          "model_module": "@jupyter-widgets/controls",
          "model_module_version": "1.5.0",
          "model_name": "FloatProgressModel",
          "state": {
            "_dom_classes": [],
            "_model_module": "@jupyter-widgets/controls",
            "_model_module_version": "1.5.0",
            "_model_name": "FloatProgressModel",
            "_view_count": null,
            "_view_module": "@jupyter-widgets/controls",
            "_view_module_version": "1.5.0",
            "_view_name": "ProgressView",
            "bar_style": "success",
            "description": "",
            "description_tooltip": null,
            "layout": "IPY_MODEL_c1b9977f51f147f29572661f780755fd",
            "max": 2,
            "min": 0,
            "orientation": "horizontal",
            "style": "IPY_MODEL_b89bde94fedf4f69bb17fd56126455f7",
            "value": 2
          }
        },
        "b5f70fb8fb964012b8bf69d7b8bcd217": {
          "model_module": "@jupyter-widgets/controls",
          "model_module_version": "1.5.0",
          "model_name": "HTMLModel",
          "state": {
            "_dom_classes": [],
            "_model_module": "@jupyter-widgets/controls",
            "_model_module_version": "1.5.0",
            "_model_name": "HTMLModel",
            "_view_count": null,
            "_view_module": "@jupyter-widgets/controls",
            "_view_module_version": "1.5.0",
            "_view_name": "HTMLView",
            "description": "",
            "description_tooltip": null,
            "layout": "IPY_MODEL_eec666b06cc74a5d8c20f1ec238c057b",
            "placeholder": "​",
            "style": "IPY_MODEL_ee89b1a2256c43aa9f100047d7318767",
            "value": " 2/2 [00:04&lt;00:00,  2.27s/it]"
          }
        },
        "b89bde94fedf4f69bb17fd56126455f7": {
          "model_module": "@jupyter-widgets/controls",
          "model_module_version": "1.5.0",
          "model_name": "ProgressStyleModel",
          "state": {
            "_model_module": "@jupyter-widgets/controls",
            "_model_module_version": "1.5.0",
            "_model_name": "ProgressStyleModel",
            "_view_count": null,
            "_view_module": "@jupyter-widgets/base",
            "_view_module_version": "1.2.0",
            "_view_name": "StyleView",
            "bar_color": null,
            "description_width": ""
          }
        },
        "b99d2bca44d0413abf1c45c466f2d3cc": {
          "model_module": "@jupyter-widgets/controls",
          "model_module_version": "1.5.0",
          "model_name": "HTMLModel",
          "state": {
            "_dom_classes": [],
            "_model_module": "@jupyter-widgets/controls",
            "_model_module_version": "1.5.0",
            "_model_name": "HTMLModel",
            "_view_count": null,
            "_view_module": "@jupyter-widgets/controls",
            "_view_module_version": "1.5.0",
            "_view_name": "HTMLView",
            "description": "",
            "description_tooltip": null,
            "layout": "IPY_MODEL_73de0520466a477687f45a8ee40c00d7",
            "placeholder": "​",
            "style": "IPY_MODEL_25b4296d6317429b8c496d5b89d62de3",
            "value": "Loading checkpoint shards: 100%"
          }
        },
        "be2efa1fe8c3489ca97eb87f2def85cc": {
          "model_module": "@jupyter-widgets/controls",
          "model_module_version": "1.5.0",
          "model_name": "DescriptionStyleModel",
          "state": {
            "_model_module": "@jupyter-widgets/controls",
            "_model_module_version": "1.5.0",
            "_model_name": "DescriptionStyleModel",
            "_view_count": null,
            "_view_module": "@jupyter-widgets/base",
            "_view_module_version": "1.2.0",
            "_view_name": "StyleView",
            "description_width": ""
          }
        },
        "c1b9977f51f147f29572661f780755fd": {
          "model_module": "@jupyter-widgets/base",
          "model_module_version": "1.2.0",
          "model_name": "LayoutModel",
          "state": {
            "_model_module": "@jupyter-widgets/base",
            "_model_module_version": "1.2.0",
            "_model_name": "LayoutModel",
            "_view_count": null,
            "_view_module": "@jupyter-widgets/base",
            "_view_module_version": "1.2.0",
            "_view_name": "LayoutView",
            "align_content": null,
            "align_items": null,
            "align_self": null,
            "border": null,
            "bottom": null,
            "display": null,
            "flex": null,
            "flex_flow": null,
            "grid_area": null,
            "grid_auto_columns": null,
            "grid_auto_flow": null,
            "grid_auto_rows": null,
            "grid_column": null,
            "grid_gap": null,
            "grid_row": null,
            "grid_template_areas": null,
            "grid_template_columns": null,
            "grid_template_rows": null,
            "height": null,
            "justify_content": null,
            "justify_items": null,
            "left": null,
            "margin": null,
            "max_height": null,
            "max_width": null,
            "min_height": null,
            "min_width": null,
            "object_fit": null,
            "object_position": null,
            "order": null,
            "overflow": null,
            "overflow_x": null,
            "overflow_y": null,
            "padding": null,
            "right": null,
            "top": null,
            "visibility": null,
            "width": null
          }
        },
        "d8f7aca5f5b649f0acdaa91b57843b46": {
          "model_module": "@jupyter-widgets/controls",
          "model_module_version": "1.5.0",
          "model_name": "HBoxModel",
          "state": {
            "_dom_classes": [],
            "_model_module": "@jupyter-widgets/controls",
            "_model_module_version": "1.5.0",
            "_model_name": "HBoxModel",
            "_view_count": null,
            "_view_module": "@jupyter-widgets/controls",
            "_view_module_version": "1.5.0",
            "_view_name": "HBoxView",
            "box_style": "",
            "children": [
              "IPY_MODEL_53775d317b29487e9734496f46f0675d",
              "IPY_MODEL_a9c6be9bed55475497c834f8fe65bb8c",
              "IPY_MODEL_b5f70fb8fb964012b8bf69d7b8bcd217"
            ],
            "layout": "IPY_MODEL_e871edf65c7b4d398e9ee405d5dd2349"
          }
        },
        "d9233d685d1848749aa3cdb3820b7a05": {
          "model_module": "@jupyter-widgets/controls",
          "model_module_version": "1.5.0",
          "model_name": "HBoxModel",
          "state": {
            "_dom_classes": [],
            "_model_module": "@jupyter-widgets/controls",
            "_model_module_version": "1.5.0",
            "_model_name": "HBoxModel",
            "_view_count": null,
            "_view_module": "@jupyter-widgets/controls",
            "_view_module_version": "1.5.0",
            "_view_name": "HBoxView",
            "box_style": "",
            "children": [
              "IPY_MODEL_b99d2bca44d0413abf1c45c466f2d3cc",
              "IPY_MODEL_47bf0c2d5d4d4635924cb45bbd87349d",
              "IPY_MODEL_2d161f75918a4fb88d99227f71328d72"
            ],
            "layout": "IPY_MODEL_e492213cf8e24812a214a6dae388c5cc"
          }
        },
        "e19948f70480481780a2080655d3b1a8": {
          "model_module": "@jupyter-widgets/base",
          "model_module_version": "1.2.0",
          "model_name": "LayoutModel",
          "state": {
            "_model_module": "@jupyter-widgets/base",
            "_model_module_version": "1.2.0",
            "_model_name": "LayoutModel",
            "_view_count": null,
            "_view_module": "@jupyter-widgets/base",
            "_view_module_version": "1.2.0",
            "_view_name": "LayoutView",
            "align_content": null,
            "align_items": null,
            "align_self": null,
            "border": null,
            "bottom": null,
            "display": null,
            "flex": null,
            "flex_flow": null,
            "grid_area": null,
            "grid_auto_columns": null,
            "grid_auto_flow": null,
            "grid_auto_rows": null,
            "grid_column": null,
            "grid_gap": null,
            "grid_row": null,
            "grid_template_areas": null,
            "grid_template_columns": null,
            "grid_template_rows": null,
            "height": null,
            "justify_content": null,
            "justify_items": null,
            "left": null,
            "margin": null,
            "max_height": null,
            "max_width": null,
            "min_height": null,
            "min_width": null,
            "object_fit": null,
            "object_position": null,
            "order": null,
            "overflow": null,
            "overflow_x": null,
            "overflow_y": null,
            "padding": null,
            "right": null,
            "top": null,
            "visibility": null,
            "width": null
          }
        },
        "e492213cf8e24812a214a6dae388c5cc": {
          "model_module": "@jupyter-widgets/base",
          "model_module_version": "1.2.0",
          "model_name": "LayoutModel",
          "state": {
            "_model_module": "@jupyter-widgets/base",
            "_model_module_version": "1.2.0",
            "_model_name": "LayoutModel",
            "_view_count": null,
            "_view_module": "@jupyter-widgets/base",
            "_view_module_version": "1.2.0",
            "_view_name": "LayoutView",
            "align_content": null,
            "align_items": null,
            "align_self": null,
            "border": null,
            "bottom": null,
            "display": null,
            "flex": null,
            "flex_flow": null,
            "grid_area": null,
            "grid_auto_columns": null,
            "grid_auto_flow": null,
            "grid_auto_rows": null,
            "grid_column": null,
            "grid_gap": null,
            "grid_row": null,
            "grid_template_areas": null,
            "grid_template_columns": null,
            "grid_template_rows": null,
            "height": null,
            "justify_content": null,
            "justify_items": null,
            "left": null,
            "margin": null,
            "max_height": null,
            "max_width": null,
            "min_height": null,
            "min_width": null,
            "object_fit": null,
            "object_position": null,
            "order": null,
            "overflow": null,
            "overflow_x": null,
            "overflow_y": null,
            "padding": null,
            "right": null,
            "top": null,
            "visibility": null,
            "width": null
          }
        },
        "e871edf65c7b4d398e9ee405d5dd2349": {
          "model_module": "@jupyter-widgets/base",
          "model_module_version": "1.2.0",
          "model_name": "LayoutModel",
          "state": {
            "_model_module": "@jupyter-widgets/base",
            "_model_module_version": "1.2.0",
            "_model_name": "LayoutModel",
            "_view_count": null,
            "_view_module": "@jupyter-widgets/base",
            "_view_module_version": "1.2.0",
            "_view_name": "LayoutView",
            "align_content": null,
            "align_items": null,
            "align_self": null,
            "border": null,
            "bottom": null,
            "display": null,
            "flex": null,
            "flex_flow": null,
            "grid_area": null,
            "grid_auto_columns": null,
            "grid_auto_flow": null,
            "grid_auto_rows": null,
            "grid_column": null,
            "grid_gap": null,
            "grid_row": null,
            "grid_template_areas": null,
            "grid_template_columns": null,
            "grid_template_rows": null,
            "height": null,
            "justify_content": null,
            "justify_items": null,
            "left": null,
            "margin": null,
            "max_height": null,
            "max_width": null,
            "min_height": null,
            "min_width": null,
            "object_fit": null,
            "object_position": null,
            "order": null,
            "overflow": null,
            "overflow_x": null,
            "overflow_y": null,
            "padding": null,
            "right": null,
            "top": null,
            "visibility": null,
            "width": null
          }
        },
        "ee89b1a2256c43aa9f100047d7318767": {
          "model_module": "@jupyter-widgets/controls",
          "model_module_version": "1.5.0",
          "model_name": "DescriptionStyleModel",
          "state": {
            "_model_module": "@jupyter-widgets/controls",
            "_model_module_version": "1.5.0",
            "_model_name": "DescriptionStyleModel",
            "_view_count": null,
            "_view_module": "@jupyter-widgets/base",
            "_view_module_version": "1.2.0",
            "_view_name": "StyleView",
            "description_width": ""
          }
        },
        "eec666b06cc74a5d8c20f1ec238c057b": {
          "model_module": "@jupyter-widgets/base",
          "model_module_version": "1.2.0",
          "model_name": "LayoutModel",
          "state": {
            "_model_module": "@jupyter-widgets/base",
            "_model_module_version": "1.2.0",
            "_model_name": "LayoutModel",
            "_view_count": null,
            "_view_module": "@jupyter-widgets/base",
            "_view_module_version": "1.2.0",
            "_view_name": "LayoutView",
            "align_content": null,
            "align_items": null,
            "align_self": null,
            "border": null,
            "bottom": null,
            "display": null,
            "flex": null,
            "flex_flow": null,
            "grid_area": null,
            "grid_auto_columns": null,
            "grid_auto_flow": null,
            "grid_auto_rows": null,
            "grid_column": null,
            "grid_gap": null,
            "grid_row": null,
            "grid_template_areas": null,
            "grid_template_columns": null,
            "grid_template_rows": null,
            "height": null,
            "justify_content": null,
            "justify_items": null,
            "left": null,
            "margin": null,
            "max_height": null,
            "max_width": null,
            "min_height": null,
            "min_width": null,
            "object_fit": null,
            "object_position": null,
            "order": null,
            "overflow": null,
            "overflow_x": null,
            "overflow_y": null,
            "padding": null,
            "right": null,
            "top": null,
            "visibility": null,
            "width": null
          }
        },
        "f03e0b9e78e34823a77f7daa501373c1": {
          "model_module": "@jupyter-widgets/base",
          "model_module_version": "1.2.0",
          "model_name": "LayoutModel",
          "state": {
            "_model_module": "@jupyter-widgets/base",
            "_model_module_version": "1.2.0",
            "_model_name": "LayoutModel",
            "_view_count": null,
            "_view_module": "@jupyter-widgets/base",
            "_view_module_version": "1.2.0",
            "_view_name": "LayoutView",
            "align_content": null,
            "align_items": null,
            "align_self": null,
            "border": null,
            "bottom": null,
            "display": null,
            "flex": null,
            "flex_flow": null,
            "grid_area": null,
            "grid_auto_columns": null,
            "grid_auto_flow": null,
            "grid_auto_rows": null,
            "grid_column": null,
            "grid_gap": null,
            "grid_row": null,
            "grid_template_areas": null,
            "grid_template_columns": null,
            "grid_template_rows": null,
            "height": null,
            "justify_content": null,
            "justify_items": null,
            "left": null,
            "margin": null,
            "max_height": null,
            "max_width": null,
            "min_height": null,
            "min_width": null,
            "object_fit": null,
            "object_position": null,
            "order": null,
            "overflow": null,
            "overflow_x": null,
            "overflow_y": null,
            "padding": null,
            "right": null,
            "top": null,
            "visibility": null,
            "width": null
          }
        }
      }
    }
  },
  "nbformat": 4,
  "nbformat_minor": 0
}
